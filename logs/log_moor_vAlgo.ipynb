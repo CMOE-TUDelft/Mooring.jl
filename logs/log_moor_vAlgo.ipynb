{
 "cells": [
  {
   "cell_type": "markdown",
   "metadata": {},
   "source": [
    "# Common Algorithm Developments"
   ]
  },
  {
   "cell_type": "markdown",
   "metadata": {},
   "source": [
    "## Content\n",
    "\n",
    "1. [Speedup: Trials to improve speed [2024-02-28]](#log_moor_vAlgo_1)\n",
    "2. [Drag and added mass for the line[2024-03-01]](#log_moor_vAlgo_2)\n",
    "3. [Speedup: TransientSemiLinearFEOperator, Gridap_Update, evaluate_cache, Interpolations [2024-03-22]](#log_moor_vAlgo_3)\n",
    "4. [Speedup: Break down eveluate_cache [2024-03-26]](#log_moor_vAlgo_4)\n",
    "5. [CellField for Wave-Vel along the mooring line [2024-04-03]](#log_moor_vAlgo_5)\n",
    "6. [GenerlisedAlpa2: Value of rhoInf[2024-09-02]](#log_moor_vAlgo_6)\n",
    "\n",
    "\n",
    "## Attempting\n",
    "\n",
    "- Empty\n",
    "\n",
    "\n",
    "## List of Work\n",
    "\n",
    "### List of Features to implement\n",
    "\n",
    "- [x] Spring bed\n",
    "- [x] Spring bed damping\n",
    "- [ ] Separate out weight and buoyancy field\n",
    "- [x] Drag: self\n",
    "- [x] Drag: current\n",
    "- [x] Drag: wave\n",
    "- [ ] Fairlead motion: with wave-particle\n",
    "- [ ] Wave-elevation profile output\n",
    "- [x] Modular\n",
    "\n",
    "\n",
    "---\n",
    "---"
   ]
  },
  {
   "cell_type": "markdown",
   "metadata": {
    "tags": []
   },
   "source": [
    "<a id = 'log_moor_vAlgo_6' />\n",
    "\n",
    "## GenerlisedAlpa2: Value of rhoInf [2024-09-02]"
   ]
  },
  {
   "cell_type": "markdown",
   "metadata": {},
   "source": [
    "- GenAlpha is always stable\n",
    "- rhoInf = 1.0 Midpoint\n",
    "    - No dissipation case: Can Diverge due to high freq\n",
    "- rhoInf 0.0 Fully implicit\n",
    "    - Asymptotic annhilition: Highly dissipative\n",
    "    - T < 10*Δt is dissipated. The following plot is from [Reference](https://miaodi.github.io/finite%20element%20method/newmark-generalized/)\n",
    "- rhoInf = 0.4 \n",
    "    - Used in OrcaFlex implicit\n",
    " \n",
    "|  |\n",
    "| :--- |\n",
    "| <img width=\"100%\" src=\"./img_vAlgo/C06_GA_dissipation.png\" /> |\n",
    "| **Plot of dissipation** for rhoInf = 0.0 |\n",
    "\n",
    "In our model, it seems like anything other than rhoInf=0 seems to cause issues.\n",
    "The following in the simulation with the bed and catenary line.\n",
    "The noise could be from the bed, because, the straight line cases run fine with rhoInf=1\n",
    "\n",
    "|  |\n",
    "| :--- |\n",
    "| <img width=\"100%\" src=\"./img_vAlgo/C06_GATest_anim1.gif\" /> |\n",
    "| **Comparison for a line with bedSpring and bedDamp** |\n",
    "\n",
    "|  |\n",
    "| :--- |\n",
    "| <img width=\"100%\" src=\"./img_vAlgo/C06_GATest_anim2.gif\" /> |\n",
    "| **Plot of ETang Magnitude** (Black) rhoInf = 0, (Green) rhoInf = 0.2, (Brown) rhoInf = 0.4, (Red) rhoInf = 1.0 |\n",
    "\n",
    "\n",
    "\n",
    "\n",
    "---"
   ]
  },
  {
   "cell_type": "markdown",
   "metadata": {},
   "source": [
    "---\n",
    "---"
   ]
  },
  {
   "cell_type": "markdown",
   "metadata": {
    "tags": []
   },
   "source": [
    "<a id = 'log_moor_vAlgo_5' />\n",
    "\n",
    "## CellField for Wave-Vel along the mooring line [2024-04-03]"
   ]
  },
  {
   "cell_type": "markdown",
   "metadata": {},
   "source": [
    "- `FEFunction` is a type of `CellField`\n",
    "- `CellState` requires a `CellField`\n",
    "- So for the wavae vel along the line, we will linearise the problem, where we will use the waveVel(n) at time-step n for evaluating the solution at t(n+1). \n",
    "    - This is an acceptable assumption because\n",
    "        1. I dont think this will effect stability, as the wave vel is only used here for adding damping in the solution\n",
    "- So the plan is \n",
    "    - Create a `CellState` which returns the WaveVel vector at all the quadrature points.\n",
    "    - Update the `CellState` every time-step based on presently known solution.\n",
    "    - I was thinking of doing it using `FEFunction`.\n",
    "        - But `FEFunction` is a type of `CellField`. It will contain info about the `FESpace` and other things, which is not necessary for now\n",
    "        - Instead the `CellField(fnc, \\Omega)` will create array of operations.\n",
    "        - The len of the array is the number of elements in \\Omega.\n",
    "        - Each entry of this array contains the call for the `fnc` in that element\n",
    "        - Using this `CellField` we can then evaluate the `CellState`, thus returning the value at all quadrature points."
   ]
  },
  {
   "cell_type": "markdown",
   "metadata": {},
   "source": [
    "---\n",
    "---"
   ]
  },
  {
   "cell_type": "markdown",
   "metadata": {
    "tags": []
   },
   "source": [
    "<a id = 'log_moor_vAlgo_4' />\n",
    "\n",
    "## Speedup: Break down eveluate_cache [2024-03-26]"
   ]
  },
  {
   "cell_type": "markdown",
   "metadata": {},
   "source": [
    "\n",
    "- So usually we do interpolation at probes as follows\n",
    "\n",
    "```\n",
    "xNew = X + uh\n",
    "xNewPrb = xNew.(rPrb)\n",
    "```\n",
    "\n",
    "- This is simple and easy. However its very slow.\n",
    "- In the previous update [link](#log_moor_vAlgo_3), I had switched to evaluate_cache() approach to speed this up by 1.03x.\n",
    "- The evaluate_cache() code is as follows\n",
    "\n",
    "```\n",
    "xNew = X + uh\n",
    "cache_xNew = Gridap.Arrays.return_cache(xNew, rPrb)\n",
    "xNewPrb = evaluate!(cache_xNew, xNew, rPrb)\n",
    "```\n",
    "\n",
    "- However there is another level of optimisation.\n",
    "- This `cache_xNew` actually consists of two caches => `(sub_cache1, sub_cache2) = cache_xNew`\n",
    "- Out of this, `sub_cache1` contains the KDTree, that never changes as long as you probe at the same points.\n",
    "- Hence, we can save time by stop evaluating this `sub_cache1`\n",
    "- Moreover, this `sub_cache1` can also be used for interpolating other values, such as stress, at the same points. Hence saving even more time!.\n",
    "- Finally, although the `sub_cache2` has be still assembled for each OperationCellField, we can re-use certain terms within this too.\n",
    "- Therefore, we can save some time by opening up the `return_cache()` function and re-using terms that only require one time calculation, or have reusable parts.\n",
    "\n",
    "One time calc\n",
    "```\n",
    "xNew = X + uh\n",
    "save_cache1, save_cache2 = Gridap.Arrays.return_cache(xNew, rPrb)\n",
    "save_f_cache = save_cache2[2]\n",
    "```\n",
    "\n",
    "Reusable parts in each time-step\n",
    "```\n",
    "xNew = X + uh   \n",
    "cell_f = get_array(xNew)\n",
    "cell_f_cache = array_cache(cell_f)    \n",
    "cache2 = cell_f_cache, save_f_cache, cell_f, xNew\n",
    "cache_xNew = (save_cache1, cache2)\n",
    "xNewPrb = evaluate!(cache_xNew, xNew, rPrb)\n",
    "```\n",
    "\n",
    "This entire edit gives us **1.057x speedup**.\n"
   ]
  },
  {
   "cell_type": "markdown",
   "metadata": {},
   "source": [
    "---\n",
    "---"
   ]
  },
  {
   "cell_type": "markdown",
   "metadata": {
    "tags": []
   },
   "source": [
    "<a id = 'log_moor_vAlgo_3' />\n",
    "\n",
    "## Speedup: TransientSemiLinearFEOperator, Gridap_Update, evaluate_cache, Interpolations [2024-03-22]"
   ]
  },
  {
   "cell_type": "markdown",
   "metadata": {},
   "source": [
    "### Gridap_Update\n",
    "\n",
    "- There was a recent update to gridap main branch on 2024-March-19\n",
    "- This merged the rk-solvers branch with main branch\n",
    "- There was a big restrucuturing of certain Jacobian calculations\n",
    "- After the update, the mooring code was **1.35x faster !!**. \n",
    "    - This is one of the single biggest gains for us.\n",
    "    - Thanks to the developers for the update\n",
    "\n",
    "|  |\n",
    "| :--- |\n",
    "| <img width=\"100%\" src=\"./img_vAlgo/C03_gridapUpdate_1p35x_faster.png\" /> |\n",
    "| **Old Gridap (Blue). After Gridap update (orange)** |\n",
    "\n",
    "\n",
    "### Interpolations and evaluate!(cache)\n",
    "\n",
    "- **1.045x speedup** after doing intp in fairlead and cache in sigma\n",
    "- Main gain is from evaluate_cache, which now takes 69-120ms per tStep instead of 200ms\n",
    "\n",
    "### TransientSemiLinearFEOperator\n",
    "\n",
    "- This is particularly useful when the mass is constant\n",
    "- **1.28x speedup** after doing this\n",
    "    - Cannot do this when including the added-mass.\n",
    "    \n",
    "|  |\n",
    "| :--- |\n",
    "| <img width=\"100%\" src=\"./img_vAlgo/C03_transSemiLinOp_1p288x_faster.png\" /> |\n",
    "| **TransientFEOperator (Blue). TransientSemiLinearOperator (Orange). Top: Time in seconds. Bottom: Number of iterations. x-axis is the time-instant t (s).** |\n",
    "\n",
    "### TransientQuasiLinearFEOperator\n",
    "\n",
    "- This would be useful when the mass is a linear function of u and dtt(u), I think.\n",
    "\n",
    "---"
   ]
  },
  {
   "cell_type": "markdown",
   "metadata": {},
   "source": [
    "---\n",
    "---"
   ]
  },
  {
   "cell_type": "markdown",
   "metadata": {
    "tags": []
   },
   "source": [
    "<a id = 'log_moor_vAlgo_2' />\n",
    "\n",
    "## Drag and added mass for the line[2024-03-01]"
   ]
  },
  {
   "cell_type": "markdown",
   "metadata": {},
   "source": [
    "Now the next changes will add the drag term \n",
    "\n",
    "\n",
    "C6) Add normal drag term\n",
    "    \n",
    "- I used `CellState` wherever possible\n",
    "- One possible inneficiency is `sΛ = (t1m2.^0.5) / T1m_cs` because this involves calculation of a sqrt\n",
    "\n",
    "\n",
    "_Checkpoint_5:_ 268s <br> \n",
    "After C6, 268s for 50 time-steps for the case, including drag and julia -O0. <br>\n",
    "Checkpoint_5 (3.7x) **slower** than Checkpoint_4 \n",
    "\n",
    "\n",
    "C7) Add normal and axial drag terms\n",
    "    \n",
    "- Compute both in one fnc `drag_\\GammaX` and add them\n",
    "- Possibly slow coz we are adding two terms\n",
    "- But calculating them together avoids recalculation of a number of terms.\n",
    "\n",
    "\n",
    "_Checkpoint_6:_ 507s <br> \n",
    "After C7, 507s for 50 time-steps for the case, including drag and julia -O0. <br>\n",
    "Checkpoint_6 (1.9x) **slower** than Checkpoint_5\n",
    "\n",
    "\n",
    "C8) Add normal and axial drag terms\n",
    "    \n",
    "- Compute in individual fncs `drag_n_\\GammaX` and `drag_t_\\GammaX`\n",
    "- Possibly slow coz we are recomputing quantities\n",
    "- But it avoids adding the terms before the integral\n",
    "\n",
    "\n",
    "_Checkpoint_7:_ 442s <br> \n",
    "After C8, 442s for 50 time-steps for the case, including drag and julia -O0. <br>\n",
    "Checkpoint_7 (1.65x) **slower** than Checkpoint_5 <br>\n",
    "Checkpoint_7 (1.14x) faster than Checkpoint_6\n",
    "\n",
    "Checkpoint_7 with `julia -O3` is 373s. Its only (1.18x) faster.\n",
    "\n",
    "---"
   ]
  },
  {
   "cell_type": "markdown",
   "metadata": {},
   "source": [
    "### Speedup by switch off drag on line on bed [NOT IMPLEMENTED]"
   ]
  },
  {
   "cell_type": "markdown",
   "metadata": {},
   "source": [
    "- On adding the drag terms, the convergence and the iteration stepping gets slower.\n",
    "- Switching them off using the tanh actually slows the sims down a bit. Dont understand why. \n",
    "    - Tried a gentler dying of the drag terms, Still slows down the code a bit.\n",
    "    - So not doing this\n",
    "    \n",
    "---"
   ]
  },
  {
   "cell_type": "markdown",
   "metadata": {},
   "source": [
    "---\n",
    "---"
   ]
  },
  {
   "cell_type": "markdown",
   "metadata": {
    "tags": []
   },
   "source": [
    "<a id = 'log_moor_vAlgo_1' />\n",
    "\n",
    "## Speedup: Trials to improve speed [2024-02-28]"
   ]
  },
  {
   "cell_type": "markdown",
   "metadata": {},
   "source": [
    "- We are trying to speed up the computations by pre computing the constant values at the quadrature points and saving them\n",
    "- This will prevent their repeated computing and interpolation of the constant quantities.\n",
    "- https://gridap.github.io/Tutorials/dev/pages/t010_isotropic_damage/#Main-function-1\n",
    "\n",
    "\n",
    "_Checkpoint_0:_  465s <br>\n",
    "465s for 50 time-steps for the case without drag and julia -O0.\n",
    "\n",
    "\n",
    "C1) Cell State\n",
    "\n",
    "- Created `CellState` for the constant quantities.\n",
    "    - `JJ_cs = (J \\odot J)^0.5`: Done\n",
    "        \n",
    "\n",
    "C2) Sum of individual terms in the dynamic res (resD), instead of integrating the sum\n",
    "\n",
    "- Noticed while developing Bsnq that `\\int( fnc1() + fnc2() )d\\Omega` is slower than `\\int( fnc1() )d\\Omega + \\int( fnc2() )d\\Omega`\n",
    "\n",
    "\n",
    "_Checkpoint_1:_ 315s <br> \n",
    "After C1 and C2, 315s for 50 time-steps for the case without drag and julia -O0. <br>\n",
    "Checkpoint_1 (1.5x) faster than Checkpoint_0\n",
    "\n",
    "\n",
    "C3) Cell State\n",
    "\n",
    "- `P_cs`\n",
    "\n",
    "\n",
    "_Checkpoint_2:_ 240s <br> \n",
    "After C3, 240s for 50 time-steps for the case without drag and julia -O0. <br>\n",
    "Checkpoint_2 (1.3x) faster than Checkpoint_1 <br>\n",
    "Checkpoint_2 (1.9x) faster than Checkpoint_0\n",
    "\n",
    "\n",
    "C4) Cell State\n",
    "\n",
    "- `QTrans_cs`\n",
    "\n",
    "\n",
    "_Checkpoint_3:_ 80s <br> \n",
    "After C4, 80s for 50 time-steps for the case without drag and julia -O0. <br>\n",
    "Checkpoint_3 (3x) faster than Checkpoint_2 <br>\n",
    "Checkpoint_3 (5.8x) faster than Checkpoint_0\n",
    "\n",
    "\n",
    "C5) Cell state in the trial function term\n",
    "\n",
    "- Modified `\\Nabla X_Dir(ψu)` to `(∇(ψu)' ⋅ QTrans_cs)`\n",
    "\n",
    "\n",
    "_Checkpoint_4:_ 72s <br> \n",
    "After C5, 72s for 50 time-steps for the case without drag and julia -O0. <br>\n",
    "Checkpoint_4 (1.1x) faster than Checkpoint_3 <br>\n",
    "Checkpoint_4 (6.2x) faster than Checkpoint_0\n",
    "\n",
    "---"
   ]
  },
  {
   "cell_type": "markdown",
   "metadata": {
    "tags": []
   },
   "source": [
    "### Comparison of results - Whalin Shoal"
   ]
  },
  {
   "cell_type": "markdown",
   "metadata": {
    "jp-MarkdownHeadingCollapsed": true,
    "tags": []
   },
   "source": [
    "Empty\n",
    "\n",
    "---"
   ]
  },
  {
   "cell_type": "markdown",
   "metadata": {},
   "source": [
    "---\n",
    "---"
   ]
  },
  {
   "cell_type": "markdown",
   "metadata": {},
   "source": [
    "## References\n",
    "\n"
   ]
  }
 ],
 "metadata": {
  "kernelspec": {
   "display_name": "Python 3 (ipykernel)",
   "language": "python",
   "name": "python3"
  },
  "language_info": {
   "codemirror_mode": {
    "name": "ipython",
    "version": 3
   },
   "file_extension": ".py",
   "mimetype": "text/x-python",
   "name": "python",
   "nbconvert_exporter": "python",
   "pygments_lexer": "ipython3",
   "version": "3.12.3"
  }
 },
 "nbformat": 4,
 "nbformat_minor": 4
}
