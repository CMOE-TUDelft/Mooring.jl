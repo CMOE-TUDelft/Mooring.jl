{
 "cells": [
  {
   "cell_type": "markdown",
   "metadata": {},
   "source": [
    "# Development log - Julia code - Bsnq"
   ]
  },
  {
   "cell_type": "markdown",
   "metadata": {},
   "source": [
    "## Contents\n",
    "\n",
    "1. [Common math](./log_moor_vMath.ipynb)\n",
    "1. [Common bugs in the code](./log_moor_vBugs.md)\n",
    "1. [Common algorithm developments in the code](./log_moor_vAlgo.md)\n",
    "1. [Initial development log](./log_moor_v001.ipynb)\n",
    "\n",
    "---\n",
    "---\n"
   ]
  },
  {
   "cell_type": "markdown",
   "metadata": {},
   "source": [
    "## List of Work\n",
    "\n",
    "- [ ] [Empty](./log_bsnqM_vAlgo.md) : Empty\n",
    "\n",
    "---\n",
    "---"
   ]
  }
 ],
 "metadata": {
  "kernelspec": {
   "display_name": "Julia 1.8.2",
   "language": "julia",
   "name": "julia-1.8"
  },
  "language_info": {
   "file_extension": ".jl",
   "mimetype": "application/julia",
   "name": "julia",
   "version": "1.8.2"
  }
 },
 "nbformat": 4,
 "nbformat_minor": 4
}
